{
 "metadata": {
  "kernelspec": {
   "display_name": "Python 2",
   "language": "python",
   "name": "python2"
  },
  "language_info": {
   "codemirror_mode": {
    "name": "ipython",
    "version": 2
   },
   "file_extension": ".py",
   "mimetype": "text/x-python",
   "name": "python",
   "nbconvert_exporter": "python",
   "pygments_lexer": "ipython2",
   "version": "2.7.12"
  },
  "name": "",
  "signature": "sha256:d997debb286613f6a0addc47317e83608e5a03512dcbd1064747da1f44b7fe4e"
 },
 "nbformat": 3,
 "nbformat_minor": 0,
 "worksheets": [
  {
   "cells": [
    {
     "cell_type": "code",
     "collapsed": true,
     "input": [
      "import timeit\n",
      "import requests\n",
      "from bs4 import BeautifulSoup\n",
      "import re\n",
      "import os\n",
      "import pandas as pd\n",
      "import csv"
     ],
     "language": "python",
     "metadata": {},
     "outputs": [],
     "prompt_number": 106
    },
    {
     "cell_type": "code",
     "collapsed": false,
     "input": [
      "k = 1\n",
      "url_temp = 'https://auto.ria.com/legkovie/'\n",
      "brand = 'volkswagen' \n",
      "page = '?page=%d' % k\n",
      "url = url_temp + brand + page\n",
      "print url"
     ],
     "language": "python",
     "metadata": {},
     "outputs": [
      {
       "output_type": "stream",
       "stream": "stdout",
       "text": [
        "https://auto.ria.com/legkovie/acura?page=1\n"
       ]
      }
     ],
     "prompt_number": 69
    },
    {
     "cell_type": "heading",
     "level": 4,
     "metadata": {},
     "source": [
      "Find maximum numbers of pages"
     ]
    },
    {
     "cell_type": "code",
     "collapsed": false,
     "input": [
      "r = requests.get(url)\n",
      "soup = BeautifulSoup(r.text, 'lxml')\n",
      "pages = soup.find('div', class_ = 'pagination-wrap').find_all('strong', class_ ='pager-item active')[-1].text\n",
      "total_pages = int(pages)\n",
      "total_pages\n"
     ],
     "language": "python",
     "metadata": {},
     "outputs": [
      {
       "metadata": {},
       "output_type": "pyout",
       "prompt_number": 125,
       "text": [
        "1919"
       ]
      }
     ],
     "prompt_number": 125
    },
    {
     "cell_type": "heading",
     "level": 4,
     "metadata": {},
     "source": [
      "Save html pages into own directory"
     ]
    },
    {
     "cell_type": "code",
     "collapsed": false,
     "input": [
      "start_time = timeit.default_timer()\n",
      "url_temp = 'https://auto.ria.com/legkovie/volkswagen/?page=%d'\n",
      "while k < total_pages:\n",
      "    url = url_temp % k\n",
      "    r = requests.get(url)\n",
      "    soup = BeautifulSoup(r.text)\n",
      "    with open('./page_vw/page_%d.html' % k, 'w') as output_file:\n",
      "        output_file.write(r.text.encode('utf-8'))\n",
      "        k += 1\n",
      "    \n",
      "stop = timeit.default_timer()\n",
      "print('Running time:', round(stop - start_time, 3), 'sec')"
     ],
     "language": "python",
     "metadata": {},
     "outputs": [
      {
       "output_type": "stream",
       "stream": "stdout",
       "text": [
        "('Running time:', 2111.441, 'sec')\n"
       ]
      }
     ],
     "prompt_number": 127
    },
    {
     "cell_type": "heading",
     "level": 4,
     "metadata": {},
     "source": [
      "Parsing html pages and write into csv file"
     ]
    },
    {
     "cell_type": "code",
     "collapsed": false,
     "input": [
      "start_time = timeit.default_timer()\n",
      "\n",
      "for filename in os.listdir('./page_vw/'):\n",
      "    filepath = './page_vw/' + filename \n",
      "    with open(filepath) as input_file:\n",
      "        text = input_file.read()\n",
      "    \n",
      "        soup = BeautifulSoup(text)\n",
      "        items = soup.find(id='searchResults').find_all(\"div\", {'class':'content-bar'})\n",
      "        for item in items:\n",
      "            link = item.find('div', {'class': 'ticket-photo'}).find('a').get('href')\n",
      "            try:\n",
      "                car_id = re.findall(r'\\d+', link)[-1]\n",
      "            except:\n",
      "                car_id = \" \"\n",
      "            try:\n",
      "                title = item.find('div', {'class': 'ticket-photo'}).find('a').get('title')\n",
      "            except:\n",
      "                title = \" \"\n",
      "            try:\n",
      "                year = re.findall(r'.?([0-9]+)', title)[-1]\n",
      "            except:\n",
      "                year = \" \"\n",
      "            try:\n",
      "                brand = item.find('span', {'class': 'blue bold'}).text.encode('utf8')\n",
      "            except:\n",
      "                brand = \" \"\n",
      "            try:\n",
      "                fuel = item.find('ul', {'class': 'unstyle characteristic'}).find('li').find_next('li').text.split(\",\")[0].encode('utf8')\n",
      "            except:\n",
      "                fuel = \" \"\n",
      "            try:\n",
      "                volume = item.find('ul', {'class': 'unstyle characteristic'}).find('li').find_next('li').text.split(\",\")[-1].encode('utf8')\n",
      "            except:\n",
      "                volume = \" \"\n",
      "            try:\n",
      "                transmission = item.find('ul', {'class': 'unstyle characteristic'}).find('li').find_next('li').find_next('li').text.encode('utf8')\n",
      "            except:\n",
      "                transmission = \" \"\n",
      "            try:\n",
      "                mileage = item.find('ul', {'class': 'unstyle characteristic'}).find('li').text.encode('utf8')\n",
      "            except:\n",
      "                mileage = \" \"\n",
      "            try:    \n",
      "                location = item.find('div', {'class': 'price-ticket'}).find('div', {'class': 'location'}).find('a').text.encode('utf8')\n",
      "            except:\n",
      "                location = \" \"\n",
      "            try:\n",
      "                price = item.find('div', {'class': 'price-ticket'}).find('span', {'class':'bold green'}).text.encode('utf8')\n",
      "            except:\n",
      "                price  = \" \"\n",
      "            try:\n",
      "                description = item.find('p', {'class':'descriptions-ticket'}).text.encode('utf8')\n",
      "            except:\n",
      "                description = \" \"\n",
      "            \n",
      "            data = {\"Car_ID\": car_id,\n",
      "                    \"Link\": link,\n",
      "                    \"Brand\": brand,\n",
      "                    \"Year\": year,\n",
      "                    \"Fuel\": fuel,\n",
      "                    \"Volume\": volume,\n",
      "                    \"Transmission\": transmission,\n",
      "                    \"Mileage\": mileage,\n",
      "                    \"Location\": location,\n",
      "                    \"Price\": price,\n",
      "                    \"Description\": description\n",
      "                    }\n",
      "           \n",
      "            with open(\"vw_auto.csv\", 'a') as f:\n",
      "                writer = csv.writer(f)\n",
      "                writer.writerow( (data['Car_ID'],\n",
      "                                data['Link'],\n",
      "                                data['Brand'],\n",
      "                                data['Year'], \n",
      "                                data['Fuel'],\n",
      "                                data['Volume'], \n",
      "                                data['Transmission'],\n",
      "                                data['Mileage'],\n",
      "                                data['Location'],\n",
      "                                data['Price'],\n",
      "                                data['Description'] )) \n",
      "    \n",
      "\n",
      "stop = timeit.default_timer()\n",
      "print (\"Processing time:\",  round(stop-start_time, 4), 'sec')"
     ],
     "language": "python",
     "metadata": {},
     "outputs": [
      {
       "output_type": "stream",
       "stream": "stdout",
       "text": [
        "('Processing time:', 376.4926, 'sec')\n"
       ]
      }
     ],
     "prompt_number": 34
    }
   ],
   "metadata": {}
  }
 ]
}